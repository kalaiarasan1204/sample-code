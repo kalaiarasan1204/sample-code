{
 "cells": [
  {
   "cell_type": "code",
   "execution_count": 1,
   "metadata": {},
   "outputs": [
    {
     "name": "stdout",
     "output_type": "stream",
     "text": [
      "The ASCII value of A is -31\n"
     ]
    }
   ],
   "source": [
    "def ascii_value(character):\n",
    "    ascii_code = 0\n",
    "    for i in range(len(character)):\n",
    "        ascii_code += (ord(character[i]) - 97 + 1)\n",
    "    return ascii_code\n",
    "\n",
    "# Example usage\n",
    "char = 'A'\n",
    "print(f\"The ASCII value of {char} is {ascii_value(char)}\")\n"
   ]
  },
  {
   "cell_type": "code",
   "execution_count": 3,
   "metadata": {},
   "outputs": [
    {
     "name": "stdout",
     "output_type": "stream",
     "text": [
      "Simple interest is: 150.0\n"
     ]
    }
   ],
   "source": [
    "def calculate_simple_intersat(principle, rate, time):\n",
    "    simple_interest = (principle*rate*time)/100\n",
    "    return simple_interest\n",
    "principle = (int(input(\"Enter principle amount:\")))\n",
    "rate = (int(input(\"Enter rate of interest:\")))\n",
    "time = (int(input(\"Enter time:\")))\n",
    "print(\"Simple interest is:\",calculate_simple_intersat(principle, rate, time))"
   ]
  },
  {
   "cell_type": "code",
   "execution_count": 4,
   "metadata": {},
   "outputs": [
    {
     "name": "stdout",
     "output_type": "stream",
     "text": [
      "8.0 raised to the power of 7.0 is 2097152.0\n"
     ]
    }
   ],
   "source": [
    "def power(x, y):\n",
    "    return x ** y\n",
    "\n",
    "# Get input from the user\n",
    "x = float(input(\"Enter the base (x): \"))\n",
    "y = float(input(\"Enter the exponent (y): \"))\n",
    "\n",
    "# Calculate x^y\n",
    "result = power(x, y)\n",
    "\n",
    "# Print the result\n",
    "print(f\"{x} raised to the power of {y} is {result}\")\n"
   ]
  },
  {
   "cell_type": "code",
   "execution_count": null,
   "metadata": {},
   "outputs": [],
   "source": []
  }
 ],
 "metadata": {
  "kernelspec": {
   "display_name": "Python 3",
   "language": "python",
   "name": "python3"
  },
  "language_info": {
   "codemirror_mode": {
    "name": "ipython",
    "version": 3
   },
   "file_extension": ".py",
   "mimetype": "text/x-python",
   "name": "python",
   "nbconvert_exporter": "python",
   "pygments_lexer": "ipython3",
   "version": "3.12.8"
  }
 },
 "nbformat": 4,
 "nbformat_minor": 2
}
