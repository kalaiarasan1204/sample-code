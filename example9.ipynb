{
 "cells": [
  {
   "cell_type": "code",
   "execution_count": 2,
   "metadata": {},
   "outputs": [
    {
     "name": "stdout",
     "output_type": "stream",
     "text": [
      "a is a vowel\n"
     ]
    }
   ],
   "source": [
    "# get a letter from the user\n",
    "letter = input(\"Enter the letter:\").lower()\n",
    "# assing the vowels to the variable\n",
    "vowels = \"aeiou\"\n",
    "# len(letter)==1 check only one letter isalpha chech the input is letter\n",
    "if len(letter) == 1 and letter.isalpha():\n",
    "# use if else to check the letter is vowel or consonant\n",
    "    if letter in vowels:\n",
    "        print(f\"{letter} is a vowel\")\n",
    "    else:\n",
    "        print(f\"{letter} is s consonant\")"
   ]
  },
  {
   "cell_type": "code",
   "execution_count": 5,
   "metadata": {},
   "outputs": [
    {
     "name": "stdout",
     "output_type": "stream",
     "text": [
      "Above 50 belongs to group A\n",
      "Between 40 to 50 belong to group B\n",
      "Less than 40 belongs to group C\n",
      "57 belongs to group A\n"
     ]
    }
   ],
   "source": [
    "# Find the number belonging to which group above 50, between 40 to 50, less than 40.?\n",
    "\n",
    "num = (int(input(\"Enetr The Number:\")))\n",
    "print(\"Above 50 belongs to group A\")\n",
    "print(\"Between 40 to 50 belong to group B\")\n",
    "print(\"Less than 40 belongs to group C\")\n",
    "if num > 50:\n",
    "    print(f\"{num} belongs to group A\")\n",
    "elif num >=40 and num >=50:\n",
    "    print(f\"{num} belongs to group B\")\n",
    "elif num < 40:\n",
    "    print(f\"{num} belongs to group C\")"
   ]
  },
  {
   "cell_type": "code",
   "execution_count": 13,
   "metadata": {},
   "outputs": [
    {
     "name": "stdout",
     "output_type": "stream",
     "text": [
      "Good morning\n"
     ]
    }
   ],
   "source": [
    "number = int(input(\"Enter the number:\"))\n",
    "# checking the number is divisible by 3 and 4\n",
    "if number%3==0 and number%4==0:\n",
    "    print(\"Good morning\")\n",
    "# checking the number is divisible by 3 and not by 4\n",
    "elif number%3==0 and number%4!=0:\n",
    "    print(\"Good afternoon\") \n",
    "# checking the number is divisible by 4 and not by 3\n",
    "elif (number%4==0 and number%3!=0):\n",
    "    print(\"Good evening\")\n",
    "# checking the number is not divisible by 3 and 4\n",
    "else:\n",
    "    print(\"Good night\")"
   ]
  },
  {
   "cell_type": "code",
   "execution_count": null,
   "metadata": {},
   "outputs": [
    {
     "name": "stdout",
     "output_type": "stream",
     "text": [
      "Winter season\n"
     ]
    }
   ],
   "source": [
    "# getting months from the user\n",
    "month = int(input(\"Enter month: \"))\n",
    "\n",
    "# checking the month and determining season\n",
    "if 3<=month<=5:\n",
    "    print(\"Sring season\")\n",
    "elif 6<=month<=8:\n",
    "    print(\"Summer season\")\n",
    "elif 9<=month<=11:\n",
    "    print(\"Autumn season\")\n",
    "elif month==12 or month==1 or month==2:\n",
    "    print(\"Winter season\")\n",
    "else:\n",
    "    print(\"Invalid month\")"
   ]
  },
  {
   "cell_type": "code",
   "execution_count": null,
   "metadata": {},
   "outputs": [],
   "source": []
  }
 ],
 "metadata": {
  "kernelspec": {
   "display_name": "Python 3",
   "language": "python",
   "name": "python3"
  },
  "language_info": {
   "codemirror_mode": {
    "name": "ipython",
    "version": 3
   },
   "file_extension": ".py",
   "mimetype": "text/x-python",
   "name": "python",
   "nbconvert_exporter": "python",
   "pygments_lexer": "ipython3",
   "version": "3.12.8"
  }
 },
 "nbformat": 4,
 "nbformat_minor": 2
}
