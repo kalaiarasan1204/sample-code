{
 "cells": [
  {
   "cell_type": "code",
   "execution_count": 2,
   "metadata": {},
   "outputs": [
    {
     "name": "stdout",
     "output_type": "stream",
     "text": [
      "The largest number is: 40\n",
      "The smallest number is: 10\n"
     ]
    }
   ],
   "source": [
    "# Let's say the four secret numbers are assigned to variables num1, num2, num3, and num4\n",
    "num1 = int(input(\"enter the first number :\"))\n",
    "num2 = int(input(\"enter the second number:\"))\n",
    "num3 = int(input(\"enter the third number:\"))\n",
    "num4 = int(input(\"enter the fourth number:\"))\n",
    "\n",
    "# Initialize the largest and smallest variables\n",
    "largest = num1\n",
    "smallest = num1\n",
    "\n",
    "# Compare to find the largest number\n",
    "if num2 > largest:\n",
    "    largest = num2\n",
    "if num3 > largest:\n",
    "    largest = num3\n",
    "if num4 > largest:\n",
    "    largest = num4\n",
    "\n",
    "# Compare to find the smallest number\n",
    "if num2 < smallest:\n",
    "    smallest = num2\n",
    "if num3 < smallest:\n",
    "    smallest = num3\n",
    "if num4 < smallest:\n",
    "    smallest = num4\n",
    "\n",
    "print(\"The largest number is:\", largest)\n",
    "print(\"The smallest number is:\", smallest)\n"
   ]
  },
  {
   "cell_type": "code",
   "execution_count": 3,
   "metadata": {},
   "outputs": [
    {
     "name": "stdout",
     "output_type": "stream",
     "text": [
      "sum is even: 30\n"
     ]
    }
   ],
   "source": [
    "num1 = int(input(\"Enter the first number:\"))\n",
    "num2 = int(input(\"Enter the second number:\"))\n",
    "\n",
    "sum = num1 + num2\n",
    "\n",
    "if sum % 2 == 0:\n",
    "    print(\"sum is even:\",sum)\n",
    "else:\n",
    "    print(\"sum is odd:\",sum)"
   ]
  },
  {
   "cell_type": "code",
   "execution_count": null,
   "metadata": {},
   "outputs": [],
   "source": []
  }
 ],
 "metadata": {
  "kernelspec": {
   "display_name": "Python 3",
   "language": "python",
   "name": "python3"
  },
  "language_info": {
   "codemirror_mode": {
    "name": "ipython",
    "version": 3
   },
   "file_extension": ".py",
   "mimetype": "text/x-python",
   "name": "python",
   "nbconvert_exporter": "python",
   "pygments_lexer": "ipython3",
   "version": "3.12.8"
  }
 },
 "nbformat": 4,
 "nbformat_minor": 2
}
