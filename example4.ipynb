{
 "cells": [
  {
   "cell_type": "code",
   "execution_count": 1,
   "metadata": {},
   "outputs": [
    {
     "name": "stdout",
     "output_type": "stream",
     "text": [
      "Time Estimated: 25 minutes\n"
     ]
    }
   ],
   "source": [
    "def washing_machine_time(weight, water_level):\n",
    "    if weight < 0:\n",
    "        return \"INVALID INPUT\"\n",
    "    elif weight == 0:\n",
    "        return \"Time Estimated: 0 minutes\"\n",
    "    elif weight > 7000:\n",
    "        return \"OVERLOADED\"\n",
    "    else:\n",
    "        if water_level == 'L':\n",
    "            if weight <= 2000:\n",
    "                return \"Time Estimated: 25 minutes\"\n",
    "            elif weight <= 4000:\n",
    "                return \"Time Estimated: 35 minutes\"\n",
    "            else:\n",
    "                return \"Time Estimated: 45 minutes\"\n",
    "\n",
    "# Sample Input\n",
    "weight = 2000\n",
    "water_level = 'L'\n",
    "print(washing_machine_time(weight, water_level))\n"
   ]
  },
  {
   "cell_type": "code",
   "execution_count": 5,
   "metadata": {},
   "outputs": [
    {
     "name": "stdout",
     "output_type": "stream",
     "text": [
      "Result: 15\n"
     ]
    }
   ],
   "source": [
    "def calculator(a, b, operation):\n",
    "    if operation == '+':\n",
    "        return a + b\n",
    "    elif operation == '-':\n",
    "        return a - b\n",
    "    elif operation == '*':\n",
    "        return a * b\n",
    "    elif operation == '/':\n",
    "        return a / b\n",
    "    elif operation == '%':\n",
    "        return a % b\n",
    "    else:\n",
    "        return \"Invalid Operation\"\n",
    "\n",
    "# Sample Input\n",
    "a = 10\n",
    "b = 5\n",
    "operation = '+'\n",
    "print(\"Result:\", calculator(a, b, operation))\n"
   ]
  },
  {
   "cell_type": "code",
   "execution_count": 6,
   "metadata": {},
   "outputs": [
    {
     "name": "stdout",
     "output_type": "stream",
     "text": [
      "greetings!!! kalai arasan\n"
     ]
    }
   ],
   "source": [
    "first_name = input(\"Enter the first name:\")\n",
    "last_name = input(\"Enter the last name:\")\n",
    "print(f\"greetings!!! {first_name} {last_name}\")"
   ]
  },
  {
   "cell_type": "code",
   "execution_count": null,
   "metadata": {},
   "outputs": [],
   "source": []
  }
 ],
 "metadata": {
  "kernelspec": {
   "display_name": "Python 3",
   "language": "python",
   "name": "python3"
  },
  "language_info": {
   "codemirror_mode": {
    "name": "ipython",
    "version": 3
   },
   "file_extension": ".py",
   "mimetype": "text/x-python",
   "name": "python",
   "nbconvert_exporter": "python",
   "pygments_lexer": "ipython3",
   "version": "3.12.8"
  }
 },
 "nbformat": 4,
 "nbformat_minor": 2
}
