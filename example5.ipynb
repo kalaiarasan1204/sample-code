{
 "cells": [
  {
   "cell_type": "code",
   "execution_count": 7,
   "metadata": {},
   "outputs": [
    {
     "name": "stdout",
     "output_type": "stream",
     "text": [
      "\n",
      "Grocery Bill:\n",
      "milk biks: 14 x 10.0 = 140.0\n",
      "marie gold: 5 x 10.0 = 50.0\n",
      "rose cookie: 2 x 43.0 = 86.0\n",
      "Total bill: 276.0\n"
     ]
    }
   ],
   "source": [
    "# program to calculate the grocery bill\n",
    "def main():\n",
    "    items = []\n",
    "    while True:\n",
    "        item_name = input(\"Enter item name (or type 'done' to finish): \")\n",
    "        if item_name.lower() == 'done':\n",
    "            break\n",
    "        quantity = int(input(f\"Enter quantity of {item_name}: \"))\n",
    "        price = float(input(f\"Enter price of one {item_name}: \"))\n",
    "        items.append((item_name, quantity, price))\n",
    "\n",
    "    total_bill = 0\n",
    "    print(\"\\nGrocery Bill:\")\n",
    "    for item in items:\n",
    "        item_name, quantity, price = item\n",
    "        item_total = quantity * price\n",
    "        total_bill += item_total\n",
    "        print(f\"{item_name}: {quantity} x {price} = {item_total}\")\n",
    "        \n",
    "    print(f\"Total bill: {total_bill}\")\n",
    "\n",
    "if __name__ == \"__main__\":\n",
    "    main()\n"
   ]
  },
  {
   "cell_type": "code",
   "execution_count": 5,
   "metadata": {},
   "outputs": [
    {
     "name": "stdout",
     "output_type": "stream",
     "text": [
      "The momentum of the object is 10019.0 kg·m/s\n"
     ]
    }
   ],
   "source": [
    "# program to calculatethe momentum of an obeject\n",
    "def calculate_momentum(mass, velocity):\n",
    "    momentum = mass * velocity\n",
    "    return momentum\n",
    "\n",
    "def main():\n",
    "    mass = float(input(\"Enter the mass of the object (in kg): \"))\n",
    "    velocity = float(input(\"Enter the velocity of the object (in m/s): \"))\n",
    "    \n",
    "    momentum = calculate_momentum(mass, velocity)\n",
    "    print(f\"The momentum of the object is {momentum} kg·m/s\")\n",
    "\n",
    "if __name__ == \"__main__\":\n",
    "    main()\n"
   ]
  },
  {
   "cell_type": "code",
   "execution_count": 4,
   "metadata": {},
   "outputs": [
    {
     "name": "stdout",
     "output_type": "stream",
     "text": [
      "There are 86400 seconds in a day.\n"
     ]
    }
   ],
   "source": [
    "# program to calculate seconds in a day\n",
    "def calculate_seconds_in_day():\n",
    "    hours_per_day = 24\n",
    "    minutes_per_hour = 60\n",
    "    seconds_per_minute = 60\n",
    "    seconds_in_day = hours_per_day * minutes_per_hour * seconds_per_minute\n",
    "    return seconds_in_day\n",
    "\n",
    "def main():\n",
    "    seconds_in_day = calculate_seconds_in_day()\n",
    "    print(f\"There are {seconds_in_day} seconds in a day.\")\n",
    "\n",
    "if __name__ == \"__main__\":\n",
    "    main()\n"
   ]
  },
  {
   "cell_type": "code",
   "execution_count": 9,
   "metadata": {},
   "outputs": [
    {
     "name": "stdout",
     "output_type": "stream",
     "text": [
      "Hello kalai arasan\n",
      "Welcome to python\n"
     ]
    }
   ],
   "source": [
    "first_name = input(\"Enter the first name:\")\n",
    "last_name = input(\"Enter the last name:\")\n",
    "print(f\"Hello {first_name} {last_name}\\nWelcome to python\")"
   ]
  },
  {
   "cell_type": "code",
   "execution_count": 10,
   "metadata": {},
   "outputs": [
    {
     "name": "stdout",
     "output_type": "stream",
     "text": [
      "29 is not divisible by 10.\n",
      "You should add 1 to 29 to make it divisible by 10.\n"
     ]
    }
   ],
   "source": [
    "def check_divisibility_by_10(number):\n",
    "    if number % 10 == 0:\n",
    "        print(f\"{number} is divisible by 10.\")\n",
    "    else:\n",
    "        remainder = number % 10\n",
    "        to_add = 10 - remainder\n",
    "        print(f\"{number} is not divisible by 10.\")\n",
    "        print(f\"You should add {to_add} to {number} to make it divisible by 10.\")\n",
    "        \n",
    "def main():\n",
    "    number = int(input(\"Enter a number: \"))\n",
    "    check_divisibility_by_10(number)\n",
    "\n",
    "if __name__ == \"__main__\":\n",
    "    main()\n"
   ]
  },
  {
   "cell_type": "code",
   "execution_count": 11,
   "metadata": {},
   "outputs": [
    {
     "name": "stdout",
     "output_type": "stream",
     "text": [
      "111 is not a multiple of 10, but it is a multiple of 10 if we add 9 to it\n"
     ]
    }
   ],
   "source": [
    "number = int(input(\"Enter the number:\"))\n",
    "if number % 10 ==0:\n",
    "    print(f\"{number} is a multiple of 10\")\n",
    "else:\n",
    "    remainder = number % 10\n",
    "    add =10 - remainder\n",
    "    print(f\"{number} is not a multiple of 10, but it is a multiple of 10 if we add {add} to it\")"
   ]
  },
  {
   "cell_type": "code",
   "execution_count": null,
   "metadata": {},
   "outputs": [],
   "source": []
  }
 ],
 "metadata": {
  "kernelspec": {
   "display_name": "Python 3",
   "language": "python",
   "name": "python3"
  },
  "language_info": {
   "codemirror_mode": {
    "name": "ipython",
    "version": 3
   },
   "file_extension": ".py",
   "mimetype": "text/x-python",
   "name": "python",
   "nbconvert_exporter": "python",
   "pygments_lexer": "ipython3",
   "version": "3.12.8"
  }
 },
 "nbformat": 4,
 "nbformat_minor": 2
}
