{
 "cells": [
  {
   "cell_type": "code",
   "execution_count": 4,
   "metadata": {},
   "outputs": [
    {
     "name": "stdout",
     "output_type": "stream",
     "text": [
      "X X X X X \n",
      "X       X\n",
      "X       X\n",
      "X       X\n",
      "X X X X X \n"
     ]
    }
   ],
   "source": [
    "def suare_pattern(n):\n",
    "    for i in range(0,n):\n",
    "        if (i == 0 or i == n - 1):\n",
    "            print(\"X \" * n)\n",
    "        else: \n",
    "            print(\"X \" + \"  \" * (n - 2) + \"X\")\n",
    "n = int(input(\"Enter the number of rows: \"))\n",
    "suare_pattern(n)\n"
   ]
  },
  {
   "cell_type": "code",
   "execution_count": 3,
   "metadata": {},
   "outputs": [
    {
     "name": "stdout",
     "output_type": "stream",
     "text": [
      "* * * * * * * \n",
      "* *       * * \n",
      "*   *   *   * \n",
      "*     *     * \n",
      "*   *   *   * \n",
      "* *       * * \n",
      "* * * * * * * \n"
     ]
    }
   ],
   "source": [
    "n = int(input(\"Enter the size of the pattern: \"))\n",
    "\n",
    "for i in range(1, n + 1):  # Outer loop for rows\n",
    "    for j in range(1, n + 1):  # Inner loop for columns\n",
    "        if i == 1 or j == 1 or i == n or j == n or i == j or i + j == n + 1:\n",
    "            print(\"*\", end=\" \")  # Print '*' without a newline\n",
    "        else:\n",
    "            print(\" \", end=\" \")  # Print space for hollow part\n",
    "    print()  # New line after each row\n"
   ]
  },
  {
   "cell_type": "code",
   "execution_count": 5,
   "metadata": {},
   "outputs": [
    {
     "name": "stdout",
     "output_type": "stream",
     "text": [
      "5 5 5 5 5 \n",
      "5       5 \n",
      "5       5 \n",
      "5       5 \n",
      "5 5 5 5 5 \n"
     ]
    }
   ],
   "source": [
    "for i in range(1, n + 1):  # Outer loop for rows\n",
    "    for j in range(1, n + 1):  # Inner loop for columns\n",
    "        if i == 1 or j == 1 or i == n or j == n :\n",
    "             print(n, end=\" \")  # Print '*' without a newline\n",
    "        else:\n",
    "            print(\" \", end=\" \")  # Print space for hollow part\n",
    "    print()  # New line after each row"
   ]
  },
  {
   "cell_type": "code",
   "execution_count": 9,
   "metadata": {},
   "outputs": [
    {
     "name": "stdout",
     "output_type": "stream",
     "text": [
      "1 \n",
      "2 4 \n",
      "1 3 5 \n",
      "2 4 6 8 \n",
      "1 3 5 7 9 \n"
     ]
    }
   ],
   "source": [
    "n = int(input(\"Enter the number:\"))\n",
    "for i in range(1,n+1):\n",
    "    if i % 2 != 0:\n",
    "        k = 1\n",
    "        for j in range(i):\n",
    "            print(k, end = \" \")\n",
    "            k += 2\n",
    "    else:\n",
    "            k = 2\n",
    "            for j in range(i):\n",
    "                print(k,end =\" \")\n",
    "                k += 2\n",
    "    print()"
   ]
  },
  {
   "cell_type": "code",
   "execution_count": 5,
   "metadata": {},
   "outputs": [
    {
     "name": "stdout",
     "output_type": "stream",
     "text": [
      "7 7 7 7 7 7 7 \n",
      "7 6 6 6 6 6 7 \n",
      "7 6 5 5 5 6 7 \n",
      "7 6 5 4 5 6 7 \n",
      "7 6 5 5 5 6 7 \n",
      "7 6 6 6 6 6 7 \n",
      "7 7 7 7 7 7 7 \n"
     ]
    }
   ],
   "source": [
    "n = int(input(\"Enter the size of the pattern: \"))  # User-defined size\n",
    "\n",
    "for i in range(n):  # Loop for rows\n",
    "    for j in range(n):  # Loop for columns\n",
    "        # Determine the minimum distance from the border\n",
    "        num = min(i, j, n - i - 1, n - j - 1)\n",
    "        \n",
    "        # Print the number dynamically\n",
    "        print(n - num, end=\" \")  \n",
    "        \n",
    "    print()  # Move to the next line\n"
   ]
  },
  {
   "cell_type": "code",
   "execution_count": 16,
   "metadata": {},
   "outputs": [
    {
     "name": "stdout",
     "output_type": "stream",
     "text": [
      "4 4 4 4 4 4 4 \n",
      "4 3 3 3 3 3 4 \n",
      "4 3 2 2 2 3 4 \n",
      "4 3 2 1 2 3 4 \n",
      "4 3 2 2 2 3 4 \n",
      "4 3 3 3 3 3 4 \n",
      "4 4 4 4 4 4 4 \n"
     ]
    }
   ],
   "source": [
    "n = int(input(\"Enter the number:\"))  # Change this value for different sizes\n",
    "\n",
    "size = n * 2 - 1  # Total size of the pattern\n",
    "\n",
    "for i in range(size):  # Rows\n",
    "    for j in range(size):  # Columns\n",
    "        # Find the minimum distance from any border\n",
    "        num = n - min(i, j, size - i - 1, size - j - 1)\n",
    "        print(num, end=\" \")  # Print the number with space\n",
    "    print()  # Move to the next line\n"
   ]
  },
  {
   "cell_type": "code",
   "execution_count": null,
   "metadata": {},
   "outputs": [],
   "source": []
  }
 ],
 "metadata": {
  "kernelspec": {
   "display_name": "Python 3",
   "language": "python",
   "name": "python3"
  },
  "language_info": {
   "codemirror_mode": {
    "name": "ipython",
    "version": 3
   },
   "file_extension": ".py",
   "mimetype": "text/x-python",
   "name": "python",
   "nbconvert_exporter": "python",
   "pygments_lexer": "ipython3",
   "version": "3.12.8"
  }
 },
 "nbformat": 4,
 "nbformat_minor": 2
}
