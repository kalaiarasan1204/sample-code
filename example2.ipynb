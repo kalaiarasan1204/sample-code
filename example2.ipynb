{
 "cells": [
  {
   "cell_type": "code",
   "execution_count": 1,
   "metadata": {},
   "outputs": [
    {
     "name": "stdout",
     "output_type": "stream",
     "text": [
      "the number 27 is the multiple of 27\n"
     ]
    }
   ],
   "source": [
    "def is_multiple_of_27(number):\n",
    "    if number % 27 == 0:\n",
    "        return True\n",
    "    else:\n",
    "        return False\n",
    "    \n",
    "number = int(input(\"Enter the number:\"))\n",
    "if is_multiple_of_27(number):\n",
    "    print(f\"the number {number} is the multiple of 27\")\n",
    "else:\n",
    "    print(f\"the number {number} is not the multiple of 27\")"
   ]
  },
  {
   "cell_type": "code",
   "execution_count": 2,
   "metadata": {},
   "outputs": [
    {
     "name": "stdout",
     "output_type": "stream",
     "text": [
      "500 is a multiple of 100.\n"
     ]
    }
   ],
   "source": [
    "def is_multiple_of_100(number):\n",
    "    if number % 100 == 0:\n",
    "        return True\n",
    "    else:\n",
    "        return False\n",
    "\n",
    "# Example usage\n",
    "number = 500\n",
    "if is_multiple_of_100(number):\n",
    "    print(f\"{number} is a multiple of 100.\")\n",
    "else:\n",
    "    print(f\"{number} is not a multiple of 100.\")\n"
   ]
  },
  {
   "cell_type": "code",
   "execution_count": null,
   "metadata": {},
   "outputs": [],
   "source": []
  }
 ],
 "metadata": {
  "kernelspec": {
   "display_name": "myenv",
   "language": "python",
   "name": "python3"
  },
  "language_info": {
   "codemirror_mode": {
    "name": "ipython",
    "version": 3
   },
   "file_extension": ".py",
   "mimetype": "text/x-python",
   "name": "python",
   "nbconvert_exporter": "python",
   "pygments_lexer": "ipython3",
   "version": "3.12.8"
  }
 },
 "nbformat": 4,
 "nbformat_minor": 2
}
