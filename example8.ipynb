{
 "cells": [
  {
   "cell_type": "code",
   "execution_count": 13,
   "metadata": {},
   "outputs": [
    {
     "name": "stdout",
     "output_type": "stream",
     "text": [
      "1, 2, 3, 4, 5."
     ]
    }
   ],
   "source": [
    "n = int(input(\"Enter a number: \"))  # Read user input\n",
    "for i in range(1, n + 1):  # Loop from 1 to n\n",
    "    print(i, end=\", \" if i < n else \".\")  # Print numbers with commas\n"
   ]
  },
  {
   "cell_type": "code",
   "execution_count": 12,
   "metadata": {},
   "outputs": [
    {
     "name": "stdout",
     "output_type": "stream",
     "text": [
      "1, 2, 3, 4, 5."
     ]
    }
   ],
   "source": [
    "n = int(input(\"Enter a number: \"))  # Read input\n",
    "i = 1  # Initialize outside the loop\n",
    "\n",
    "for i in range(i, n + 1):  # Start from 1 and go up to n\n",
    "    print(i, end=\", \" if i < n else \".\")  # Print numbers with commas\n"
   ]
  },
  {
   "cell_type": "code",
   "execution_count": null,
   "metadata": {},
   "outputs": [],
   "source": []
  }
 ],
 "metadata": {
  "kernelspec": {
   "display_name": "Python 3",
   "language": "python",
   "name": "python3"
  },
  "language_info": {
   "codemirror_mode": {
    "name": "ipython",
    "version": 3
   },
   "file_extension": ".py",
   "mimetype": "text/x-python",
   "name": "python",
   "nbconvert_exporter": "python",
   "pygments_lexer": "ipython3",
   "version": "3.12.8"
  }
 },
 "nbformat": 4,
 "nbformat_minor": 2
}
