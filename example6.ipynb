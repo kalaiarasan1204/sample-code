{
 "cells": [
  {
   "cell_type": "code",
   "execution_count": 6,
   "metadata": {},
   "outputs": [
    {
     "name": "stdout",
     "output_type": "stream",
     "text": [
      "select option:\n",
      "a. Addition\n",
      "s. Subtraction\n",
      "m. Multiplication\n",
      "d. Division\n",
      "mo. Modulus\n",
      "The result of 1a1 is: 2\n"
     ]
    }
   ],
   "source": [
    "# Calculator Program\n",
    "def calculator(num1, num2, operation):\n",
    "    if operation == 'a':\n",
    "        return num1 + num2\n",
    "    elif operation == 's':\n",
    "        return num1 - num2\n",
    "    elif operation == 'm':\n",
    "        return num1 * num2\n",
    "    elif operation == 'd':\n",
    "        return num1 / num2\n",
    "    elif operation == 'u':\n",
    "        return num1 % num2\n",
    "    else:\n",
    "        return \"Invalid operation!\"\n",
    "# to print the option to user    \n",
    "print(\"select option:\")\n",
    "print(\"a. Addition\")\n",
    "print(\"s. Subtraction\")\n",
    "print(\"m. Multiplication\")\n",
    "print(\"d. Division\")\n",
    "print(\"mo. Modulus\")\n",
    "# Example usage\n",
    "num1 = int(input(\"Enter the first number:\"))\n",
    "num2 = int(input(\"Enter the second number:\"))\n",
    "operation = input(\"enter the operation to be done:\")\n",
    "result = calculator(num1, num2, operation)\n",
    "print(f\"The result of {num1}{operation}{num2} is: {result}\")\n",
    "\n",
    "\n"
   ]
  },
  {
   "cell_type": "code",
   "execution_count": 7,
   "metadata": {},
   "outputs": [
    {
     "name": "stdout",
     "output_type": "stream",
     "text": [
      "*\n",
      "**\n",
      "***\n",
      "****\n",
      "*****\n"
     ]
    }
   ],
   "source": [
    "for i in range(1,6):\n",
    "    for j in range(0,i):\n",
    "        print(\"*\",end=\"\")\n",
    "    print()  "
   ]
  },
  {
   "cell_type": "code",
   "execution_count": 8,
   "metadata": {},
   "outputs": [
    {
     "name": "stdout",
     "output_type": "stream",
     "text": [
      "*\n",
      "**\n",
      "***\n",
      "****\n",
      "*****\n"
     ]
    }
   ],
   "source": [
    "for i in range(1,6):\n",
    "    print(\"*\" * i)"
   ]
  },
  {
   "cell_type": "code",
   "execution_count": null,
   "metadata": {},
   "outputs": [],
   "source": []
  }
 ],
 "metadata": {
  "kernelspec": {
   "display_name": "Python 3",
   "language": "python",
   "name": "python3"
  },
  "language_info": {
   "codemirror_mode": {
    "name": "ipython",
    "version": 3
   },
   "file_extension": ".py",
   "mimetype": "text/x-python",
   "name": "python",
   "nbconvert_exporter": "python",
   "pygments_lexer": "ipython3",
   "version": "3.12.8"
  }
 },
 "nbformat": 4,
 "nbformat_minor": 2
}
